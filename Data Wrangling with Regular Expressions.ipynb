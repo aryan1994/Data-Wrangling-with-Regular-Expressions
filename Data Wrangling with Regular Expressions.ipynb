{
    "cells": [
        {
            "metadata": {},
            "id": "d5dc455e-7e2a-4fa6-993d-7afd06e63eea",
            "cell_type": "markdown",
            "source": "<center>\n<img src=\"https://cf-courses-data.s3.us.cloud-object-storage.appdomain.cloud/IBMDeveloperSkillsNetwork-RP0321EN-SkillsNetwork/labs/module_1/images/SN_web_lightmode.png\" width=\"300\"> \n</center>\n"
        },
        {
            "metadata": {},
            "id": "826fca48-b7aa-4973-abf5-6c345c5df378",
            "cell_type": "markdown",
            "source": "<h1>Data Wrangling with Regular Expressions</h1>\n\nEstimated time needed: **40** minutes\n"
        },
        {
            "metadata": {},
            "id": "346bc740-afb3-4114-9c96-c66864311ced",
            "cell_type": "markdown",
            "source": "## Lab Overview:\n\nIn the previous data collection labs, you collected some raw datasets from several different sources. In this lab, you need to perform data wrangling tasks in order to improve data quality.\n"
        },
        {
            "metadata": {},
            "id": "df877391-57f5-414f-8bcd-fe4b602b2093",
            "cell_type": "markdown",
            "source": "You will again use regular expressions, along with the `stringr` package (part of `tidyverse`), to clean up the bike-sharing systems data that you previously web scraped from the wiki page: \n\nhttps://en.wikipedia.org/wiki/List_of_bicycle-sharing_systems\n\n<a href=\"https://cognitiveclass.ai/?utm_medium=Exinfluencer&utm_source=Exinfluencer&utm_content=000026UJ&utm_term=10006555&utm_id=NA-SkillsNetwork-Channel-SkillsNetworkCoursesIBMDeveloperSkillsNetworkRP0321ENSkillsNetwork878-2022-01-01\">\n    <img src=\"https://cf-courses-data.s3.us.cloud-object-storage.appdomain.cloud/IBMDeveloperSkillsNetwork-RP0321EN-SkillsNetwork/labs/module_1/images/l2-list-bike-sharing-systems.png\" width=\"800\" align=\"center\">\n</a>\n"
        },
        {
            "metadata": {},
            "id": "93dae379-8e23-4605-bbcf-05c49b2b5667",
            "cell_type": "markdown",
            "source": "One typical challenge of web scraping is that data extracted from HTML pages may contain unnecessary or inconsistently fomatted information.  \nFor example:\n - Textual annotations in numeric fields: `1000 (Updated with 1050)`\n - Attached reference links: `Bike sharing system [123]`\n - Inconsistent data formats: `Yes` and `Y` for the logical value `TRUE` or `2021-04-09` and `Apr 09, 2021` for the same date\n - HTML style tags: `<span style=\"color:blue\">Bike sharing system</span>`\n - Special characters: `&nbsp` for a white space\n \nMany more such examples of noise may be encountered in real-world scraped data and most of such text related noises could be handled by regular expressions.\n"
        },
        {
            "metadata": {},
            "id": "e1c614fd-a9f7-47bc-831f-d965221ab41a",
            "cell_type": "markdown",
            "source": "To summarize, you will be using `stringr` (part of `tidyverse`) and regular expressions to perform the following data wrangling tasks:\n  - TASK: Standardize column names for all collected datasets\n  - TASK: Remove undesired reference links from the scraped bike-sharing systems dataset\n  - TASK: Extract only the numeric value from undesired text annotations\n"
        },
        {
            "metadata": {},
            "id": "0757f043-5401-46e3-b1bd-810b7a426ddf",
            "cell_type": "markdown",
            "source": "Let's begin by importing the libraries you will use for these data wrangling tasks.\n"
        },
        {
            "metadata": {},
            "id": "a78f3f9a-d28b-4a3f-a87a-164c1fca4897",
            "cell_type": "code",
            "source": "# Check whether you need to install the `tidyverse` library\nrequire(\"tidyverse\")\nlibrary(tidyverse)",
            "execution_count": 1,
            "outputs": [
                {
                    "output_type": "stream",
                    "text": "Loading required package: tidyverse\nRegistered S3 methods overwritten by 'ggplot2':\n  method         from \n  [.quosures     rlang\n  c.quosures     rlang\n  print.quosures rlang\nRegistered S3 method overwritten by 'rvest':\n  method            from\n  read_xml.response xml2\n\u2500\u2500 Attaching packages \u2500\u2500\u2500\u2500\u2500\u2500\u2500\u2500\u2500\u2500\u2500\u2500\u2500\u2500\u2500\u2500\u2500\u2500\u2500\u2500\u2500\u2500\u2500\u2500\u2500\u2500\u2500\u2500\u2500\u2500\u2500\u2500\u2500\u2500\u2500\u2500\u2500\u2500\u2500 tidyverse 1.2.1 \u2500\u2500\n\u2714 ggplot2 3.1.1     \u2714 purrr   0.3.2\n\u2714 tibble  3.1.5     \u2714 dplyr   1.0.7\n\u2714 tidyr   1.1.4     \u2714 stringr 1.4.0\n\u2714 readr   1.3.1     \u2714 forcats 0.4.0\n\u2500\u2500 Conflicts \u2500\u2500\u2500\u2500\u2500\u2500\u2500\u2500\u2500\u2500\u2500\u2500\u2500\u2500\u2500\u2500\u2500\u2500\u2500\u2500\u2500\u2500\u2500\u2500\u2500\u2500\u2500\u2500\u2500\u2500\u2500\u2500\u2500\u2500\u2500\u2500\u2500\u2500\u2500\u2500\u2500\u2500 tidyverse_conflicts() \u2500\u2500\n\u2716 dplyr::filter() masks stats::filter()\n\u2716 dplyr::lag()    masks stats::lag()\n",
                    "name": "stderr"
                }
            ]
        },
        {
            "metadata": {},
            "id": "749dfadb-7861-4088-9642-72cfa34957fe",
            "cell_type": "markdown",
            "source": "## TASK: Standardize column names for all collected datasets \n"
        },
        {
            "metadata": {},
            "id": "18f7a381-2bcd-4d24-a132-0fe5ca084383",
            "cell_type": "markdown",
            "source": "In the previous data collection labs, you collected four datasets in csv format:\n- `raw_bike_sharing_systems.csv`:  A list of active bike-sharing systems across the world\n- `raw_cities_weather_forecast.csv`: 5-day weather forecasts for a list of cities, from OpenWeather API\n- `raw_worldcities.csv`: A list of major cities' info (such as name, latitude and longitude) across the world\n- `raw_seoul_bike_sharing.csv`: Weather information (Temperature, Humidity, Windspeed, Visibility, Dewpoint, Solar radiation, Snowfall, Rainfall), the number of bikes rented per hour, and date information, from Seoul bike-sharing systems\n"
        },
        {
            "metadata": {},
            "id": "c4fdac5b-74d8-4673-97ff-18cfbc684951",
            "cell_type": "markdown",
            "source": "*Optional:* If you had some difficulties finishing the data collection labs, you may download the datasets directly from the following URLs:\n"
        },
        {
            "metadata": {},
            "id": "b7706380-a0d4-460c-8011-c1088ab19ff2",
            "cell_type": "code",
            "source": "# Download raw_bike_sharing_systems.csv\nurl <- \"https://cf-courses-data.s3.us.cloud-object-storage.appdomain.cloud/IBMDeveloperSkillsNetwork-RP0321EN-SkillsNetwork/labs/datasets/raw_bike_sharing_systems.csv\"\ndownload.file(url, destfile = \"raw_bike_sharing_systems.csv\")\n\n# Download raw_cities_weather_forecast.csv\nurl <- \"https://cf-courses-data.s3.us.cloud-object-storage.appdomain.cloud/IBMDeveloperSkillsNetwork-RP0321EN-SkillsNetwork/labs/datasets/raw_cities_weather_forecast.csv\"\ndownload.file(url, destfile = \"raw_cities_weather_forecast.csv\")\n\n# Download raw_worldcities.csv\nurl <- \"https://cf-courses-data.s3.us.cloud-object-storage.appdomain.cloud/IBMDeveloperSkillsNetwork-RP0321EN-SkillsNetwork/labs/datasets/raw_worldcities.csv\"\ndownload.file(url, destfile = \"raw_worldcities.csv\")\n\n# Download raw_seoul_bike_sharing.csv\nurl <- \"https://cf-courses-data.s3.us.cloud-object-storage.appdomain.cloud/IBMDeveloperSkillsNetwork-RP0321EN-SkillsNetwork/labs/datasets/raw_seoul_bike_sharing.csv\"\ndownload.file(url, destfile = \"raw_seoul_bike_sharing.csv\")",
            "execution_count": 5,
            "outputs": []
        },
        {
            "metadata": {},
            "id": "8558def2-45c9-438e-b1b2-6ebfc58baa62",
            "cell_type": "markdown",
            "source": "To improve dataset readbility by both human and computer systems, we first need to standardize the column names of the datasets above using the following naming convention:\n - Column names need to be UPPERCASE\n - The word separator needs to be an underscore, such as in `COLUMN_NAME`\n"
        },
        {
            "metadata": {},
            "id": "41541184-544e-4d07-9c52-8604f96ecfe8",
            "cell_type": "markdown",
            "source": "You can use the following dataset list and the `names()` function to get and set each of their column names, and convert them according to our defined naming convention.\n"
        },
        {
            "metadata": {},
            "id": "009a3b3e-de5c-417b-85dd-e8f1dc822f50",
            "cell_type": "code",
            "source": "dataset_list <- c('raw_bike_sharing_systems.csv', 'raw_seoul_bike_sharing.csv', 'raw_cities_weather_forecast.csv', 'raw_worldcities.csv')",
            "execution_count": 4,
            "outputs": []
        },
        {
            "metadata": {},
            "id": "ad0d5298-091b-49b3-88f9-c38f3f924762",
            "cell_type": "markdown",
            "source": "_TODO_: Write a `for` loop to iterate over the above datasets and convert their column names \n"
        },
        {
            "metadata": {},
            "id": "2d77b59e-5a18-4f51-ab9f-494ef7b72f37",
            "cell_type": "code",
            "source": "for (dataset_name in dataset_list){\n    # Read dataset\n    dataset <- read_csv(dataset_name)\n    # Standardized its columns:\n    \n    # Convert all column names to uppercase\n    \n    # Replace any white space separators by underscores, using the str_replace_all function\n    \n    # Save the dataset \n    write.csv(dataset, dataset_name, row.names=FALSE)\n}\n",
            "execution_count": 6,
            "outputs": [
                {
                    "output_type": "stream",
                    "text": "Parsed with column specification:\ncols(\n  COUNTRY = col_character(),\n  City = col_character(),\n  Name = col_character(),\n  SYSTEM = col_character(),\n  OPERATOR = col_character(),\n  LAUNCHED = col_character(),\n  DISCONTINUED = col_character(),\n  STATIONS = col_character(),\n  BICYCLES = col_character(),\n  DAILY_RIDERSHIP = col_character()\n)\nParsed with column specification:\ncols(\n  Date = col_character(),\n  RENTED_BIKE_COUNT = col_double(),\n  Hour = col_double(),\n  TEMPERATURE = col_double(),\n  HUMIDITY = col_double(),\n  WIND_SPEED = col_double(),\n  Visibility = col_double(),\n  DEW_POINT_TEMPERATURE = col_double(),\n  SOLAR_RADIATION = col_double(),\n  RAINFALL = col_double(),\n  Snowfall = col_double(),\n  SEASONS = col_character(),\n  HOLIDAY = col_character(),\n  FUNCTIONING_DAY = col_character()\n)\nParsed with column specification:\ncols(\n  city = col_character(),\n  weather = col_character(),\n  visibility = col_double(),\n  temp = col_double(),\n  temp_min = col_double(),\n  temp_max = col_double(),\n  pressure = col_double(),\n  humidity = col_double(),\n  wind_speed = col_double(),\n  wind_deg = col_double(),\n  season = col_character(),\n  forecast_datetime = col_datetime(format = \"\")\n)\nParsed with column specification:\ncols(\n  City = col_character(),\n  CITY_ASCII = col_character(),\n  LAT = col_double(),\n  LNG = col_double(),\n  COUNTRY = col_character(),\n  ISO2 = col_character(),\n  ISO3 = col_character(),\n  ADMIN_NAME = col_character(),\n  CAPITAL = col_character(),\n  POPULATION = col_double(),\n  ID = col_double()\n)\n",
                    "name": "stderr"
                }
            ]
        },
        {
            "metadata": {},
            "id": "10ff2ba3-d31b-4337-b721-d0e06a71e915",
            "cell_type": "markdown",
            "source": "_TODO_: Read the resulting datasets back and check whether their column names follow the naming convention\n"
        },
        {
            "metadata": {},
            "id": "d36d42d6-b95e-483d-9f60-70d1917001d9",
            "cell_type": "code",
            "source": "for (dataset_name in dataset_list){\n    # Print a summary for each data set to check whether the column names were correctly converted\n}",
            "execution_count": null,
            "outputs": []
        },
        {
            "metadata": {},
            "id": "16f36ea2-f91c-43cf-8884-2b7b7d78968d",
            "cell_type": "markdown",
            "source": "## Process the web-scraped bike sharing system dataset \n"
        },
        {
            "metadata": {},
            "id": "12365c3f-c9bf-415d-91e9-580ac7bad927",
            "cell_type": "markdown",
            "source": "By now we have standardized all column names. Next, we will focus on cleaning up the values in the web-scraped bike sharing systems dataset.\n"
        },
        {
            "metadata": {},
            "id": "b1a28709-fe2c-4cd3-88c4-caec7306dd91",
            "cell_type": "code",
            "source": "# First load the dataset\nbike_sharing_df <- read_csv(\"raw_bike_sharing_systems.csv\")",
            "execution_count": null,
            "outputs": []
        },
        {
            "metadata": {},
            "id": "7fe0c5dc-acaa-46d5-ab98-308ec2a6d9d2",
            "cell_type": "code",
            "source": "# Print its head\nhead(bike_sharing_df)",
            "execution_count": null,
            "outputs": []
        },
        {
            "metadata": {},
            "id": "2668045a-b738-45f2-b1a7-16646a94c9cc",
            "cell_type": "markdown",
            "source": "Even from the first few rows, you can see there is plenty of undesireable embedded textual content, such as the reference link included in `Melbourne[12]`.\n"
        },
        {
            "metadata": {},
            "id": "391baa89-2e38-43c7-a6c6-9c4439068700",
            "cell_type": "markdown",
            "source": "In this project, let's only focus on processing the following revelant columns (feel free to process the other columns for more practice):\n - `COUNTRY`: Country name \n - `CITY`: City name\n - `SYSTEM`: Bike-sharing system name\n - `BICYCLES`: Total number of bikes in the system\n"
        },
        {
            "metadata": {},
            "id": "c3ff0a3e-b618-40b3-a866-3b98bf8d0174",
            "cell_type": "code",
            "source": "# Select the four columns\nsub_bike_sharing_df <- bike_sharing_df %>% select(COUNTRY, CITY, SYSTEM, BICYCLES)",
            "execution_count": null,
            "outputs": []
        },
        {
            "metadata": {},
            "id": "b30c9492-2820-4f00-85bb-92fe48915639",
            "cell_type": "markdown",
            "source": "Let's see the types of the selected columns\n"
        },
        {
            "metadata": {},
            "id": "b6a2d409-227c-432e-9900-4480167d446f",
            "cell_type": "code",
            "source": "sub_bike_sharing_df %>% \n    summarize_all(class) %>%\n    gather(variable, class)",
            "execution_count": null,
            "outputs": []
        },
        {
            "metadata": {},
            "id": "32e7c6a2-5d11-4ccf-8fb7-c770c0eeb9e0",
            "cell_type": "markdown",
            "source": "They are all interpreted as character columns, but we expect the `BICYCLES` column to be of numeric type. Let's see why it wasn't loaded as a numeric column - possibly some entries contain characters. Let's create a simple function called `find_character` to check that.\n"
        },
        {
            "metadata": {},
            "id": "3cfefa1e-eeef-4948-afbb-3611597a2b72",
            "cell_type": "code",
            "source": "# grepl searches a string for non-digital characters, and returns TRUE or FALSE\n# if it finds any non-digital characters, then the bicyle column is not purely numeric\nfind_character <- function(strings) grepl(\"[^0-9]\", strings)",
            "execution_count": null,
            "outputs": []
        },
        {
            "metadata": {},
            "id": "ededcb50-ed13-46d7-b7fb-7ca9b9808522",
            "cell_type": "markdown",
            "source": "Let's try to find any elements in the `Bicycles` column containing non-numeric characters.\n"
        },
        {
            "metadata": {},
            "id": "b033bd1f-4971-453b-a961-786a3df54eab",
            "cell_type": "code",
            "source": "sub_bike_sharing_df %>% \n    select(BICYCLES) %>% \n    filter(find_character(BICYCLES)) %>%\n    slice(0:10)",
            "execution_count": null,
            "outputs": []
        },
        {
            "metadata": {},
            "id": "1981d469-932f-443d-a266-cffec016f4f5",
            "cell_type": "markdown",
            "source": "As you can see, many rows have non-numeric characters, such as `32 (including 6 rollers) [162]` and `1000[253]`. This is actually very common for a table scraped from Wiki when no input validation is enforced. \n\nLater, you will use regular expressions to clean them up.\n"
        },
        {
            "metadata": {},
            "id": "53710bbc-6734-4dd2-a2cd-1931e1e7bee7",
            "cell_type": "markdown",
            "source": "Next, let's take a look at the other columns, namely `COUNTRY`, `CITY`, and `SYSTEM`, to see if they contain any undesired reference links, such as in `Melbourne[12]`.\n"
        },
        {
            "metadata": {},
            "id": "fb8fc648-a7f0-4f3e-8c25-81c9e87a3851",
            "cell_type": "code",
            "source": "# Define a 'reference link' character class, \n# `[A-z0-9]` means at least one character \n# `\\\\[` and `\\\\]` means the character is wrapped by [], such as for [12] or [abc]\nref_pattern <- \"\\\\[[A-z0-9]+\\\\]\"\nfind_reference_pattern <- function(strings) grepl(ref_pattern, strings)",
            "execution_count": null,
            "outputs": []
        },
        {
            "metadata": {},
            "id": "5c66d874-abbd-4d46-a609-e5e3a3109a05",
            "cell_type": "code",
            "source": "# Check whether the COUNTRY column has any reference links\nsub_bike_sharing_df %>% \n    select(COUNTRY) %>% \n    filter(find_reference_pattern(COUNTRY)) %>%\n    slice(0:10)",
            "execution_count": null,
            "outputs": []
        },
        {
            "metadata": {},
            "id": "5011cde3-e2d5-496c-9dda-4f62822d2a77",
            "cell_type": "markdown",
            "source": "Ok, looks like the `COUNTRY` column is clean. Let's check the `CITY` column.\n"
        },
        {
            "metadata": {},
            "id": "5f6aedf8-fc29-496d-9c06-ef19444699e8",
            "cell_type": "code",
            "source": "# Check whether the CITY column has any reference links\nsub_bike_sharing_df %>% \n    select(CITY) %>% \n    filter(find_reference_pattern(CITY)) %>%\n    slice(0:10)",
            "execution_count": null,
            "outputs": []
        },
        {
            "metadata": {},
            "id": "18011d30-b1d6-4f6b-98b9-b5b952634c7d",
            "cell_type": "markdown",
            "source": "Hmm, looks like the `CITY` column has some reference links to be removed. Next, let's check the `SYSTEM` column.\n"
        },
        {
            "metadata": {},
            "id": "ebfc03a7-5dad-4093-8a29-43432014617e",
            "cell_type": "code",
            "source": "# Check whether the System column has any reference links\nsub_bike_sharing_df %>% \n    select(SYSTEM) %>% \n    filter(find_reference_pattern(SYSTEM)) %>%\n    slice(0:10)",
            "execution_count": null,
            "outputs": []
        },
        {
            "metadata": {},
            "id": "3b07d8ae-2177-4012-8a57-5a9569bc5408",
            "cell_type": "markdown",
            "source": "So the `SYSTEM` column also has some reference links.\n"
        },
        {
            "metadata": {},
            "id": "a322c2a1-eba1-48c8-8e2b-2da445af35d8",
            "cell_type": "markdown",
            "source": "After some preliminary investigations, we identified that the `CITY` and `SYSTEM` columns have some undesired reference links, and the `BICYCLES` column has both reference links and some \ntextual annotations.\n\nNext, you need to use regular expressions to clean up the unexpected reference links and text annotations in numeric values.\n"
        },
        {
            "metadata": {},
            "id": "1598e682-da41-4d66-a7e6-28c76aa805aa",
            "cell_type": "markdown",
            "source": "# TASK: Remove undesired reference links using regular expressions\n"
        },
        {
            "metadata": {},
            "id": "4102580d-91bb-4376-b701-23ca68d53105",
            "cell_type": "markdown",
            "source": "_TODO:_ Write a custom function using `stringr::str_replace_all` to replace all reference links with an empty character for columns `CITY` and `SYSTEM`\n"
        },
        {
            "metadata": {},
            "id": "0f3fac25-3422-43fd-bc0c-00321c88239d",
            "cell_type": "code",
            "source": "# remove reference link\nremove_ref <- function(strings) {\n    ref_pattern <- \"Define a pattern matching a reference link such as [1]\"\n    # Replace all matched substrings with a white space using str_replace_all()\n    # Trim the reslt if you want\n    # return(result)\n}",
            "execution_count": null,
            "outputs": []
        },
        {
            "metadata": {},
            "id": "6905b5dd-63de-4189-8440-febedfb5debc",
            "cell_type": "markdown",
            "source": "_TODO:_ Use the `dplyr::mutate()` function to apply the `remove_ref` function to the `CITY` and `SYSTEM` columns\n"
        },
        {
            "metadata": {},
            "id": "9ce77592-1ca1-4546-839b-87cbc88d361e",
            "cell_type": "code",
            "source": "# sub_bike_sharing_df %>% mutate(column1=remove_ref(column1), ... )\n",
            "execution_count": null,
            "outputs": []
        },
        {
            "metadata": {},
            "id": "594fea94-7087-4d5c-8883-f0aa4087dfe9",
            "cell_type": "markdown",
            "source": "_TODO:_ Use the following code to check whether all reference links are removed:\n"
        },
        {
            "metadata": {},
            "id": "f6dc2ecd-6ae0-4978-8840-760a6deb82eb",
            "cell_type": "code",
            "source": "result %>% \n    select(CITY, SYSTEM, BICYCLES) %>% \n    filter(find_reference_pattern(CITY) | find_reference_pattern(SYSTEM) | find_reference_pattern(BICYCLES))",
            "execution_count": null,
            "outputs": []
        },
        {
            "metadata": {},
            "id": "8c8e1947-28a0-462c-be45-536671bfa841",
            "cell_type": "markdown",
            "source": "# TASK: Extract the numeric value using regular expressions\n"
        },
        {
            "metadata": {},
            "id": "df4bb61e-0d60-46ef-a019-aa439cd2999d",
            "cell_type": "markdown",
            "source": "_TODO:_ Write a custom function using `stringr::str_extract` to extract the first digital substring match and convert it into numeric type For example, extract the value '32' from `32 (including 6 rollers) [162]`.\n"
        },
        {
            "metadata": {},
            "id": "132aa00b-3bb1-4b35-8a4c-4169d5d11381",
            "cell_type": "code",
            "source": "# Extract the first number\nextract_num <- function(columns){\n    # Define a digital pattern\n    digitals_pattern <- \"Define a pattern matching a digital substring\"\n    # Find the first match using str_extract\n    # Convert the result to numeric using the as.numeric() function\n}",
            "execution_count": null,
            "outputs": []
        },
        {
            "metadata": {},
            "id": "a2eef301-6209-4f52-9659-b23734974a76",
            "cell_type": "markdown",
            "source": "_TODO:_ Use the `dplyr::mutate()` function to apply `extract_num` on the `BICYCLES` column\n"
        },
        {
            "metadata": {},
            "id": "e24e94ad-927c-40a5-b572-d70aab3e4bc6",
            "cell_type": "code",
            "source": "# Use the mutate() function on the BICYCLES column",
            "execution_count": null,
            "outputs": []
        },
        {
            "metadata": {},
            "id": "045aa810-3662-4a59-93f5-3455a7206038",
            "cell_type": "markdown",
            "source": "_TODO:_ Use the summary function to check the descriptive statistics of the numeric `BICYCLES` column\n"
        },
        {
            "metadata": {},
            "id": "ecefaa67-6c53-439d-8b15-d506bf5e8923",
            "cell_type": "code",
            "source": "summary(result$BICYCLES)",
            "execution_count": null,
            "outputs": []
        },
        {
            "metadata": {},
            "id": "1a3f105f-2721-43b4-a499-b447559180c6",
            "cell_type": "markdown",
            "source": "_TODO:_ Write the cleaned bike-sharing systems dataset into a csv file called `bike_sharing_systems.csv`\n"
        },
        {
            "metadata": {},
            "id": "bd83d724-29b3-4b70-bd49-e1666bd82985",
            "cell_type": "code",
            "source": "# Write dataset to `bike_sharing_systems.csv`\n",
            "execution_count": null,
            "outputs": []
        },
        {
            "metadata": {},
            "id": "8e9e317e-a8dd-4c08-b320-b16340a2da39",
            "cell_type": "markdown",
            "source": "# References:\n"
        },
        {
            "metadata": {},
            "id": "e7924a6b-0185-4358-a21b-6aef0482bdff",
            "cell_type": "markdown",
            "source": "If you need to refresh your memory about regular expressions, please refer to this good Regular Expression cheat sheet:\n\n<a href=\"https://www.rstudio.com/wp-content/uploads/2016/09/RegExCheatsheet.pdf?utm_medium=Exinfluencer&utm_source=Exinfluencer&utm_content=000026UJ&utm_term=10006555&utm_id=NA-SkillsNetwork-Channel-SkillsNetworkCoursesIBMDeveloperSkillsNetworkRP0321ENSkillsNetwork878-2022-01-01\" target=\"_blank\">Basic Regular Expressions in R</a>\n"
        },
        {
            "metadata": {},
            "id": "8966eab1-a675-48ee-8ebb-836ea5542d36",
            "cell_type": "markdown",
            "source": "# Next Steps\n"
        },
        {
            "metadata": {},
            "id": "9cde22c7-d36a-4f65-97a8-75390eab5e36",
            "cell_type": "markdown",
            "source": "Great! Now you have cleaned up the bike-sharing system dataset using regular expressions. Next, you will use other `tidyverse` functions to perform data wrangling on the bike-sharing demand dataset.\n"
        },
        {
            "metadata": {},
            "id": "865c9b40-836b-47a4-a636-060f1d167f0e",
            "cell_type": "markdown",
            "source": "## Authors\n\n<a href=\"https://www.linkedin.com/in/yan-luo-96288783/?utm_medium=Exinfluencer&utm_source=Exinfluencer&utm_content=000026UJ&utm_term=10006555&utm_id=NA-SkillsNetwork-Channel-SkillsNetworkCoursesIBMDeveloperSkillsNetworkRP0321ENSkillsNetwork878-2022-01-01\" target=\"_blank\">Yan Luo</a>\n"
        },
        {
            "metadata": {},
            "id": "a3829a65-1a4b-4572-a9d5-4fed97883236",
            "cell_type": "markdown",
            "source": "### Other Contributors\n\nJeff Grossman\n"
        },
        {
            "metadata": {},
            "id": "8d7b7c34-cf38-4bd5-8631-0ffff692e538",
            "cell_type": "markdown",
            "source": "## Change Log\n\n| Date (YYYY-MM-DD) | Version | Changed By | Change Description           |\n| ----------------- | ------- | ---------- | ---------------------------- |\n| 2021-04-08        | 1.0     | Yan        | Initial version created      |\n|                   |         |            |                              |\n|                   |         |            |                              |\n\n## <h3 align=\"center\"> \u00a9 IBM Corporation 2021. All rights reserved. <h3/>\n"
        }
    ],
    "metadata": {
        "kernelspec": {
            "name": "r",
            "display_name": "R 3.6",
            "language": "R"
        },
        "language_info": {
            "name": "R",
            "codemirror_mode": "r",
            "pygments_lexer": "r",
            "mimetype": "text/x-r-source",
            "file_extension": ".r",
            "version": "3.6.1"
        }
    },
    "nbformat": 4,
    "nbformat_minor": 4
}